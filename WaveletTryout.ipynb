{
 "cells": [
  {
   "cell_type": "markdown",
   "metadata": {},
   "source": [
    "# Explore Wavelet Transform with pywt"
   ]
  },
  {
   "cell_type": "markdown",
   "metadata": {},
   "source": [
    "In order to acquire a good theoretical foundation on the topic of wavelet transform, I found useful information here: \n",
    "    \n",
    "    https://www.youtube.com/watch?v=i0rPaAXjJoI\n",
    "\n",
    "    Rubin H. Landau et al., 2015, Computational Physics (third edition), Wiley-VCH, pp. 307-319.\n",
    "\n",
    "I found it helpful to familiarize myself with the Concept of Fourier Transform first. I found useful information here: \n",
    "    \n",
    "    https://www.youtube.com/watch?v=spUNpyF58BY\n",
    "        \n",
    "    James H. McClellan et al., 2003, Signal Processing First (International Edition), Pearson Education International, pp. 1-50.\n",
    "    "
   ]
  },
  {
   "cell_type": "code",
   "execution_count": null,
   "metadata": {},
   "outputs": [],
   "source": []
  },
  {
   "cell_type": "code",
   "execution_count": null,
   "metadata": {},
   "outputs": [],
   "source": [
    "import math\n",
    "import numpy as np\n",
    "import matplotlib.pyplot as plt\n",
    "import pandas as pd\n",
    "import pylab\n",
    "import pywt\n",
    "#from intra_event_processing.data_processing.autocorrelation import autocorr_non_norm, autocorr_norm\n",
    "#from intra_event_processing.data_visualization.show_dic_structure import show_structure"
   ]
  },
  {
   "cell_type": "markdown",
   "metadata": {},
   "source": [
    "## Continuous wavelet transform: "
   ]
  },
  {
   "cell_type": "markdown",
   "metadata": {},
   "source": [
    "### Create some test data:"
   ]
  },
  {
   "cell_type": "markdown",
   "metadata": {},
   "source": [
    "#### Two sine wave signals, the second with a frequency four times as high as the first one:"
   ]
  },
  {
   "cell_type": "code",
   "execution_count": null,
   "metadata": {},
   "outputs": [],
   "source": [
    "f_1 = 4\n",
    "w = 2. * np.pi * f_1\n",
    "time_interval = 1\n",
    "fig = pylab.figure()\n",
    "signals_lowfreq = {}\n",
    "for i, samples in enumerate((5, 14, 200, 5000)):\n",
    "    pylab.subplot(2, 2, i+1)\n",
    "    pylab.title('%i samples'%samples)\n",
    "    t = np.linspace(0, time_interval, samples)\n",
    "    y = np.sin(w * t)\n",
    "    data_points = str(samples) + '_points'\n",
    "    signals_lowfreq[data_points] = y\n",
    "    pylab.plot(t, y, '.-')\n",
    "    plt.subplots_adjust(bottom=0.4, right=2, top=2)\n",
    "fig.show()"
   ]
  },
  {
   "cell_type": "code",
   "execution_count": null,
   "metadata": {},
   "outputs": [],
   "source": [
    "f_2 = f_1*4\n",
    "w = 2. * np.pi * f_2\n",
    "time_interval = 1\n",
    "fig = pylab.figure()\n",
    "signals_highfreq = {}\n",
    "for i, samples in enumerate((5, 14, 200, 5000)):\n",
    "    pylab.subplot(2, 2, i+1)\n",
    "    pylab.title('%i samples'%samples)\n",
    "    t = np.linspace(0, time_interval, samples)\n",
    "    y = np.sin(w * t)\n",
    "    data_points = str(samples) + '_points'\n",
    "    signals_highfreq[data_points] = y\n",
    "    pylab.plot(t, y, '.-')\n",
    "    plt.subplots_adjust(bottom=0.4, right=2, top=2)\n",
    "fig.show()"
   ]
  },
  {
   "cell_type": "code",
   "execution_count": null,
   "metadata": {},
   "outputs": [],
   "source": [
    "sine_wave_low = signals_lowfreq['200_points']\n",
    "sine_wave_high = signals_highfreq['200_points']"
   ]
  },
  {
   "cell_type": "code",
   "execution_count": null,
   "metadata": {},
   "outputs": [],
   "source": [
    "pylab.subplot(2,2,1)\n",
    "pylab.plot(sine_wave_low)\n",
    "pylab.subplot(2,2,2)\n",
    "pylab.plot(sine_wave_high)\n",
    "fig.show()"
   ]
  },
  {
   "cell_type": "markdown",
   "metadata": {},
   "source": [
    "#### A mixed sine wave signal: sum up two frequencies"
   ]
  },
  {
   "cell_type": "code",
   "execution_count": null,
   "metadata": {},
   "outputs": [],
   "source": [
    "signal_mixed_total = signals_lowfreq['200_points'] + signals_highfreq['200_points']"
   ]
  },
  {
   "cell_type": "code",
   "execution_count": null,
   "metadata": {},
   "outputs": [],
   "source": [
    "plt.plot(signal_mixed_total)"
   ]
  },
  {
   "cell_type": "markdown",
   "metadata": {},
   "source": [
    "#### Constant zero signal and a concatenated signal: First part constant zero, second part high frequency sine wave:"
   ]
  },
  {
   "cell_type": "code",
   "execution_count": null,
   "metadata": {},
   "outputs": [],
   "source": [
    "zero_streak = np.zeros(100)\n",
    "zero_high = np.concatenate((zero_streak,signals_highfreq['200_points'][100:]))\n",
    "len(zero_high)"
   ]
  },
  {
   "cell_type": "code",
   "execution_count": null,
   "metadata": {},
   "outputs": [],
   "source": [
    "pylab.subplot(2,2,1)\n",
    "pylab.plot(zero_streak)\n",
    "pylab.subplot(2,2,2)\n",
    "pylab.plot(zero_high)\n",
    "fig.show()"
   ]
  },
  {
   "cell_type": "markdown",
   "metadata": {},
   "source": [
    "#### Concatenated two parts signal: Low frequency and mixed frequency (low and high) sine wave"
   ]
  },
  {
   "cell_type": "code",
   "execution_count": null,
   "metadata": {},
   "outputs": [],
   "source": [
    "signal_mixed_half = signals_lowfreq['200_points'] + zero_high"
   ]
  },
  {
   "cell_type": "code",
   "execution_count": null,
   "metadata": {},
   "outputs": [],
   "source": [
    "plt.plot(signal_mixed_half)"
   ]
  },
  {
   "cell_type": "markdown",
   "metadata": {},
   "source": [
    "#### Visualize gaussian wavelet: "
   ]
  },
  {
   "cell_type": "code",
   "execution_count": null,
   "metadata": {},
   "outputs": [],
   "source": [
    "w = 'gaus1'\n",
    "w = pywt.ContinuousWavelet(w)\n",
    "dir(w)\n",
    "for i in range(0, len(w.wavefun())):\n",
    "    index = i+1\n",
    "    pylab.subplot(2,2,index)\n",
    "    pylab.plot(w.wavefun()[i])\n",
    "fig.show()"
   ]
  },
  {
   "cell_type": "markdown",
   "metadata": {},
   "source": [
    "### Applying continuous wavelet transform to the slow sine wave signal:"
   ]
  },
  {
   "cell_type": "markdown",
   "metadata": {},
   "source": [
    "#### Specify the imput data, the scales and the wavelet type:"
   ]
  },
  {
   "cell_type": "markdown",
   "metadata": {},
   "source": [
    "Scales define how much the wavelet will be streched or squished: It affects frequency in the following way: freq = 2*pi/s"
   ]
  },
  {
   "cell_type": "code",
   "execution_count": null,
   "metadata": {},
   "outputs": [],
   "source": [
    "scales = np.arange(1, 11)\n",
    "#scales = np.arange(1,3)"
   ]
  },
  {
   "cell_type": "code",
   "execution_count": null,
   "metadata": {},
   "outputs": [],
   "source": [
    "scales"
   ]
  },
  {
   "cell_type": "markdown",
   "metadata": {},
   "source": [
    "#### Execute wavelet transform: "
   ]
  },
  {
   "cell_type": "code",
   "execution_count": null,
   "metadata": {},
   "outputs": [],
   "source": [
    "coeffs_1, freqs_1 = pywt.cwt(sine_wave_low, scales, 'gaus1')"
   ]
  },
  {
   "cell_type": "markdown",
   "metadata": {},
   "source": [
    "Two outputs are produced: An array of the different frequencies defined by the different scales (number of output frequencies equals number of input scales), and array of coefficient arrays. Each coefficient array corresponds one wavelet frequency and scale (number of arrays equal numbers of input scales). Each of these coefficient-arrays contains coefficients, the number of coefficients in each array equals the number of data points in the input data. Each coefficient corresponds to a tau value indicating the location of the wavelet and the coefficient value itself is a measure of the similarity of the signal and the wavelet at that specific location (obtained by convolution of that portion of the signal with the wavelet). "
   ]
  },
  {
   "cell_type": "code",
   "execution_count": null,
   "metadata": {},
   "outputs": [],
   "source": [
    "type(freqs_1)"
   ]
  },
  {
   "cell_type": "code",
   "execution_count": null,
   "metadata": {},
   "outputs": [],
   "source": [
    "print(len(scales))\n",
    "print(len(coeffs_1))\n",
    "print(len(freqs_1))"
   ]
  },
  {
   "cell_type": "code",
   "execution_count": null,
   "metadata": {},
   "outputs": [],
   "source": [
    "print(len(coeffs_1[0]))\n",
    "print(len(sine_wave_low))"
   ]
  },
  {
   "cell_type": "markdown",
   "metadata": {},
   "source": [
    "#### Visualize results: "
   ]
  },
  {
   "cell_type": "markdown",
   "metadata": {},
   "source": [
    "The graph below shows the frequency of the signal at different scales, i.e. the frequencies of the signal as revealed by convolution with the wavelet at different scales:"
   ]
  },
  {
   "cell_type": "code",
   "execution_count": null,
   "metadata": {
    "scrolled": true
   },
   "outputs": [],
   "source": [
    "plt.figure(1, figsize=(20, 10))\n",
    "plt.subplot(121)\n",
    "plt.imshow(coeffs_1, cmap='coolwarm', aspect='auto')\n",
    "plt.show()"
   ]
  },
  {
   "cell_type": "markdown",
   "metadata": {},
   "source": [
    "Plotting an coefficient array reveales a similar pattern as the input signal. This makes sense as the wavelet has a sine shape and the convolution with the signal yields the highest values as the wavelet is in phase with the signal: "
   ]
  },
  {
   "cell_type": "code",
   "execution_count": null,
   "metadata": {},
   "outputs": [],
   "source": [
    "plt.plot(coeffs_1[0])"
   ]
  },
  {
   "cell_type": "markdown",
   "metadata": {},
   "source": [
    "Plotting the frequencies shows a decrease. This makes sense as the arrays of frequencies corresponds to an array of increasing scales."
   ]
  },
  {
   "cell_type": "code",
   "execution_count": null,
   "metadata": {},
   "outputs": [],
   "source": [
    "plt.plot(freqs_1)"
   ]
  },
  {
   "cell_type": "markdown",
   "metadata": {},
   "source": [
    "### Applying continuous wavelet transform to the concatenated two-part-signal: low freq sine wave and mixed low-and-high-freq-sine-wave:"
   ]
  },
  {
   "cell_type": "code",
   "execution_count": null,
   "metadata": {
    "scrolled": true
   },
   "outputs": [],
   "source": [
    "coeffs_new_1, freqs_new_1 = pywt.cwt(signal_mixed_half, scales, 'gaus1')"
   ]
  },
  {
   "cell_type": "markdown",
   "metadata": {},
   "source": [
    "#### Visualize results:"
   ]
  },
  {
   "cell_type": "markdown",
   "metadata": {},
   "source": [
    "The plot below shows that the low frequency is present throughout the signal whereas the high frequency is only present in the second half. It also shows that the high frequency signal can only be revealed at lower scales (i.e. high frequency wavelets): "
   ]
  },
  {
   "cell_type": "code",
   "execution_count": null,
   "metadata": {},
   "outputs": [],
   "source": [
    "plt.figure(1, figsize=(20, 10))\n",
    "plt.subplot(121)\n",
    "plt.imshow(coeffs_new_1, cmap='coolwarm', aspect='auto')\n",
    "plt.show()"
   ]
  },
  {
   "cell_type": "markdown",
   "metadata": {},
   "source": [
    "The high scale coefficients capture the shape of the low freq sine wave (amplitude is higher because it is a convolution). The low frequency sine wave is present in the entire signal: "
   ]
  },
  {
   "cell_type": "code",
   "execution_count": null,
   "metadata": {},
   "outputs": [],
   "source": [
    "freqs_new_1[9]"
   ]
  },
  {
   "cell_type": "code",
   "execution_count": null,
   "metadata": {},
   "outputs": [],
   "source": [
    "plt.plot(coeffs_new_1[9])"
   ]
  },
  {
   "cell_type": "markdown",
   "metadata": {},
   "source": [
    "The low scale coefficients capture the shape of the high frequency sine wave. They are only present in the second half of the signal: "
   ]
  },
  {
   "cell_type": "code",
   "execution_count": null,
   "metadata": {},
   "outputs": [],
   "source": [
    "plt.plot(coeffs_new_1[0])"
   ]
  },
  {
   "cell_type": "code",
   "execution_count": null,
   "metadata": {},
   "outputs": [],
   "source": [
    "freqs_new_1[0]"
   ]
  },
  {
   "cell_type": "markdown",
   "metadata": {},
   "source": [
    "### Questions:"
   ]
  },
  {
   "cell_type": "markdown",
   "metadata": {},
   "source": [
    "Why is the high frequency of the wavelet not at all visible in the first half of the coefficient trace? Convoluting a high frequency wave with a low frequency signal would not make the high frequency disappear completely, right? <br>\n",
    "<br>\n",
    "And why is the amplitude so much smaller than in the original signal?"
   ]
  },
  {
   "cell_type": "markdown",
   "metadata": {},
   "source": [
    "### Possible answer to the above questions:\n",
    "The integral of the wavelet is zero. Depending on the shape of the wavelet and the signal the convolution of the two can result to zero. Also, the convolution is normalized by dividing it by sqrt(s), s being the scale of the wavelet. Is this correct?"
   ]
  },
  {
   "cell_type": "code",
   "execution_count": null,
   "metadata": {},
   "outputs": [],
   "source": []
  },
  {
   "cell_type": "markdown",
   "metadata": {},
   "source": [
    "## Discrete wavelet transform: "
   ]
  },
  {
   "cell_type": "markdown",
   "metadata": {},
   "source": [
    "### Create different types of test data: "
   ]
  },
  {
   "cell_type": "code",
   "execution_count": null,
   "metadata": {},
   "outputs": [],
   "source": [
    "ecg = pywt.data.ecg()\n",
    "\n",
    "data_constant = np.repeat(2, 1000)\n",
    "\n",
    "data1 = np.arange(1, 1025)\n",
    "\n",
    "data2 = np.concatenate((np.arange(1, 400),\n",
    "                        np.arange(398, 600),\n",
    "                        np.arange(601, 1024)))\n",
    "\n",
    "data3 = np.concatenate((np.arange(1,300), np.arange(350,1000)))\n",
    "\n",
    "x = np.linspace(0.082, 2.128, num=1024)[::-1]\n",
    "data4 = np.sin(40 * np.log(x)) * np.sign((np.log(x)))\n",
    "\n"
   ]
  },
  {
   "cell_type": "code",
   "execution_count": null,
   "metadata": {},
   "outputs": [],
   "source": [
    "#fig, axes = plt.subplots(nrows=3, ncols=2)\n",
    "#fig.tight_layout()\n",
    "fig = plt.figure(figsize=(10,10))\n",
    "plt.subplots_adjust(left=None, bottom=None, right=None, top=None, wspace=1, hspace=0.5)\n",
    "plt.subplot(3,2,1)\n",
    "plt.title('Constant values')\n",
    "plt.plot(data_constant)\n",
    "plt.subplot(3,2,2)\n",
    "plt.title('Constant slope')\n",
    "plt.plot(data1)\n",
    "plt.subplot(3,2,3)\n",
    "plt.title('Constant slope with overlap at one point and a gap at a second point')\n",
    "plt.plot(data2)\n",
    "plt.subplot(3,2,4)\n",
    "plt.title('Constant slope with sudden jump')\n",
    "plt.plot(data3)\n",
    "plt.subplot(3,2,5)\n",
    "plt.title('Sine wave with increasing frequency and irregularity')\n",
    "plt.plot(data4)\n",
    "plt.subplot(3,2,6)\n",
    "plt.title('ecg')\n",
    "plt.plot(ecg)\n",
    "fig.show()"
   ]
  },
  {
   "cell_type": "code",
   "execution_count": null,
   "metadata": {},
   "outputs": [],
   "source": [
    "data2[599:603]"
   ]
  },
  {
   "cell_type": "markdown",
   "metadata": {},
   "source": [
    "### Visualize the haar wavelet:"
   ]
  },
  {
   "cell_type": "code",
   "execution_count": null,
   "metadata": {},
   "outputs": [],
   "source": [
    "w = 'haar'\n",
    "w = pywt.Wavelet(w)\n",
    "\n",
    "for i in range(0, len(w.wavefun())):\n",
    "    index = i+1\n",
    "    pylab.subplot(2,2,index)\n",
    "    pylab.plot(w.wavefun()[i])\n",
    "fig.show()\n"
   ]
  },
  {
   "cell_type": "markdown",
   "metadata": {},
   "source": [
    "### Apply wavelet transform:"
   ]
  },
  {
   "cell_type": "code",
   "execution_count": null,
   "metadata": {},
   "outputs": [],
   "source": [
    "def dwt_steps(a, w, mode, num_steps):\n",
    "    ca = []\n",
    "    cd = []\n",
    "    for i in range(num_steps + 1):\n",
    "        (a, d) = pywt.dwt(a, w, mode)\n",
    "        ca.append(a)\n",
    "        cd.append(d)\n",
    "    return ca, cd"
   ]
  },
  {
   "cell_type": "code",
   "execution_count": null,
   "metadata": {},
   "outputs": [],
   "source": [
    "\"\"\"Decompose and plot a signal S.\n",
    "S = An + Dn + Dn-1 + ... + D1\n",
    "\"\"\"\n",
    "\n",
    "mode = pywt.Modes.smooth\n",
    "\n",
    "ca_const, cd_const = dwt_steps(data_constant, w, mode, 4)\n",
    "ca_1, cd_1 = dwt_steps(data1, w, mode, 4)\n",
    "ca_2, cd_2 = dwt_steps(data2, w, mode, 4)\n",
    "ca_3, cd_3 = dwt_steps(data3, w, mode, 4)\n",
    "ca_4, cd_4 = dwt_steps(data4, w, mode, 4)"
   ]
  },
  {
   "cell_type": "markdown",
   "metadata": {},
   "source": [
    "### Discrete convolution and discrete scaling steps:\n",
    "Contrary to continuous wavelet transform, in discrete wavelet transform convolution of the wavelet with the signal is not performed by sliding the wavelet continuously along the signal. Instead, one can imagine wavelet copies being lined up along the signal one next to another. \n",
    "Scaling steps are discrete as well in that the length of the wavelet is doubled every round (at least in this concrete example). "
   ]
  },
  {
   "cell_type": "markdown",
   "metadata": {},
   "source": [
    "#### The Haar wavelet and constant values:\n",
    "The haare wavelet detects sudden decreases (and will detect sudden increases as negative changes). \n",
    "Hence, convolution with a trace of constant values will yield a result of zero: "
   ]
  },
  {
   "cell_type": "code",
   "execution_count": null,
   "metadata": {},
   "outputs": [],
   "source": [
    "plt.plot(cd_const[0])"
   ]
  },
  {
   "cell_type": "markdown",
   "metadata": {},
   "source": [
    "### Haar wavelet and constant slope:\n",
    "Convolution with a constantly (linearly) increasing signal will yield a constant negative value.\n",
    "Changes in the response are due to computer inacuracies and disappear when the numbers are rounded appropriately:"
   ]
  },
  {
   "cell_type": "code",
   "execution_count": null,
   "metadata": {},
   "outputs": [],
   "source": [
    "plt.plot(cd_1[0])"
   ]
  },
  {
   "cell_type": "code",
   "execution_count": null,
   "metadata": {},
   "outputs": [],
   "source": [
    "plt.plot(np.around(cd_1[0]))"
   ]
  },
  {
   "cell_type": "markdown",
   "metadata": {},
   "source": [
    "### Haar wavelet and irregularities:\n",
    "The Haar wavelet will detect sudden changes in an otherwise smooth linear signal such as repeating values, gaps or sudden jumps: "
   ]
  },
  {
   "cell_type": "code",
   "execution_count": null,
   "metadata": {},
   "outputs": [],
   "source": [
    "plt.plot(np.around(cd_2[0], 11))"
   ]
  },
  {
   "cell_type": "code",
   "execution_count": null,
   "metadata": {},
   "outputs": [],
   "source": [
    "plt.plot(np.around(cd_3[0], 11))"
   ]
  },
  {
   "cell_type": "code",
   "execution_count": null,
   "metadata": {},
   "outputs": [],
   "source": [
    "plt.plot(ca_3[0])"
   ]
  },
  {
   "cell_type": "markdown",
   "metadata": {},
   "source": [
    "### Haar wavelet and sine wave:\n",
    "The Haar wavelet will reveal changing slopes:"
   ]
  },
  {
   "cell_type": "code",
   "execution_count": null,
   "metadata": {},
   "outputs": [],
   "source": [
    "plt.plot(cd_4[0])"
   ]
  },
  {
   "cell_type": "markdown",
   "metadata": {},
   "source": [
    "### Details and approximation:\n",
    "The cd object is a trace of all the convolution values. Since the wavelet was two data points long at its smalles scale, the first array of the cd object is half the length of the original signal:"
   ]
  },
  {
   "cell_type": "code",
   "execution_count": null,
   "metadata": {},
   "outputs": [],
   "source": [
    "print(len(cd_1[0]))\n",
    "print(len(data1))"
   ]
  },
  {
   "cell_type": "markdown",
   "metadata": {},
   "source": [
    "At every iteration the scale of the wavelet is doubled and hence the length of the output is halfed:"
   ]
  },
  {
   "cell_type": "code",
   "execution_count": null,
   "metadata": {},
   "outputs": [],
   "source": [
    "print(len(cd_1[1]))\n",
    "print(len(cd_1[2]))\n",
    "print(len(cd_1[3]))\n",
    "print(len(cd_1[4]))"
   ]
  },
  {
   "cell_type": "markdown",
   "metadata": {},
   "source": [
    "The ca object contains the convolution results of the low pass filter. The data trace is convoluted with the low-pass filter. The result is a down-sampled data trace with higher values. In other words, the signal is convoluted with a \"step\" wavelet (two consecutive values of 1), which means two consecutive values are picked up (multiplied by 1), then added together and divided by the square root of 2^j, where 2^j is the scale s that defines the frequency of the wavelet. Then the same procedure is repeated for the next two values and so on: "
   ]
  },
  {
   "cell_type": "code",
   "execution_count": null,
   "metadata": {},
   "outputs": [],
   "source": [
    "print(data1[0:6])\n",
    "print(ca_1[0][0:3])\n",
    "print(1/np.sqrt(2) + 2/np.sqrt(2))\n",
    "print(3/np.sqrt(2) + 4/np.sqrt(2))\n",
    "print(5/np.sqrt(2) + 6/np.sqrt(2))"
   ]
  },
  {
   "cell_type": "markdown",
   "metadata": {},
   "source": [
    "The process explained above is repeated at every iteration: For scale s = 2^j, 2^j consecutive values in data1 are added up and then divided by sqrt(2^j). The result is then stored in ca_1[j-1].  So, for j=2, four consecutive values are added up and divided by 2:"
   ]
  },
  {
   "cell_type": "code",
   "execution_count": null,
   "metadata": {},
   "outputs": [],
   "source": [
    "print(ca_1[0][0:4])\n",
    "print(ca_1[1][0:4])\n",
    "print(data1[0]/2 + data1[1]/2 + data1[2]/2 + data1[3]/2)\n",
    "print(data1[4]/2 + data1[5]/2 + data1[6]/2 + data1[7]/2)\n",
    "print(data1[8]/2 + data1[9]/2 + data1[10]/2 + data1[11]/2)"
   ]
  },
  {
   "cell_type": "markdown",
   "metadata": {},
   "source": [
    "The same result is obtained by adding up 2^(j-1) values of ca_1[j-2] and dividing them by sqrt(2^(j-1): "
   ]
  },
  {
   "cell_type": "code",
   "execution_count": null,
   "metadata": {},
   "outputs": [],
   "source": [
    "print(ca_1[0][0]/np.sqrt(2) + ca_1[0][1]/np.sqrt(2))\n",
    "print(ca_1[0][2]/np.sqrt(2) + ca_1[0][3]/np.sqrt(2))\n",
    "print(ca_1[0][4]/np.sqrt(2) + ca_1[0][5]/np.sqrt(2))"
   ]
  },
  {
   "cell_type": "code",
   "execution_count": null,
   "metadata": {},
   "outputs": [],
   "source": [
    "plt.plot(data1)"
   ]
  },
  {
   "cell_type": "code",
   "execution_count": null,
   "metadata": {},
   "outputs": [],
   "source": [
    "plt.plot(ca_1[0])"
   ]
  },
  {
   "cell_type": "markdown",
   "metadata": {},
   "source": [
    "The cd_1 object contains the results obtained by the convolution of the signal with the haar wavelet. The convolution is carried out - as was the convolution with the low-pass filter - first on the two consecutive values, then on the next two consecutive values, and so on: "
   ]
  },
  {
   "cell_type": "code",
   "execution_count": null,
   "metadata": {},
   "outputs": [],
   "source": [
    "print(cd_1[0][0:20])\n",
    "print(data1[0]/np.sqrt(2) - data1[1]/np.sqrt(2))\n",
    "print(data1[2]/np.sqrt(2) - data1[3]/np.sqrt(2))"
   ]
  },
  {
   "cell_type": "markdown",
   "metadata": {},
   "source": [
    "Since the haar wavelet detects negative changes and the signal at hand shows positive change (constant positive slope i.e. a linearily increasing function), the convolution with the haar wavelet here yields a constant negative value: "
   ]
  },
  {
   "cell_type": "code",
   "execution_count": null,
   "metadata": {},
   "outputs": [],
   "source": [
    "plt.plot(np.around(cd_1[0][0:1000]))"
   ]
  },
  {
   "cell_type": "markdown",
   "metadata": {},
   "source": [
    "The below code verifies the above explanation for ca_1[0] and cd_1[0]:"
   ]
  },
  {
   "cell_type": "code",
   "execution_count": null,
   "metadata": {},
   "outputs": [],
   "source": [
    "index = 0\n",
    "ca_values_check_1 = []\n",
    "for iteration in range(1,(int(len(ca_1[0])/2))):\n",
    "    convolution_value = ca_1[0][index]/np.sqrt(2) + ca_1[0][index + 1]/np.sqrt(2)\n",
    "    ca_values_check_1.append(convolution_value)\n",
    "    index = index + 2 "
   ]
  },
  {
   "cell_type": "code",
   "execution_count": null,
   "metadata": {},
   "outputs": [],
   "source": [
    "index = 0\n",
    "cd_values_check_1 = []\n",
    "for iteration in range(1,(int(len(ca_1[0])/2))):\n",
    "    convolution_value = ca_1[0][index]/np.sqrt(2) - ca_1[0][index + 1]/np.sqrt(2)\n",
    "    cd_values_check_1.append(convolution_value)\n",
    "    index = index + 2 "
   ]
  },
  {
   "cell_type": "code",
   "execution_count": null,
   "metadata": {},
   "outputs": [],
   "source": [
    "np.array_equal(np.around(ca_values_check_1, 2)[0:len(ca_values_check_1)], np.around(ca_1[1], 2)[0:len(ca_values_check_1)])"
   ]
  },
  {
   "cell_type": "code",
   "execution_count": null,
   "metadata": {},
   "outputs": [],
   "source": [
    "np.array_equal(np.around(cd_values_check_1, 2)[0:len(cd_values_check_1)], np.around(cd_1[1], 2)[0:len(cd_values_check_1)])"
   ]
  },
  {
   "cell_type": "markdown",
   "metadata": {},
   "source": [
    "### Reconstruction step:"
   ]
  },
  {
   "cell_type": "code",
   "execution_count": null,
   "metadata": {},
   "outputs": [],
   "source": [
    "rec_a_1 = []\n",
    "rec_d_1 = []\n",
    "\n",
    "for i, coeff in enumerate(ca_1):\n",
    "    coeff_list = [coeff, None] + [None] * i\n",
    "    rec_a_1.append(pywt.waverec(coeff_list, w))\n",
    "\n",
    "for i, coeff in enumerate(cd_1):\n",
    "    coeff_list = [None, coeff] + [None] * i\n",
    "    rec_d_1.append(pywt.waverec(coeff_list, w))"
   ]
  },
  {
   "cell_type": "code",
   "execution_count": null,
   "metadata": {},
   "outputs": [],
   "source": [
    "print(type(rec_a_1))\n",
    "print(type(rec_d_1))\n",
    "print(len(rec_a_1[4]))\n",
    "print(len(rec_d_1[4]))\n",
    "print(len(data1))"
   ]
  },
  {
   "cell_type": "markdown",
   "metadata": {},
   "source": [
    "The pywt.dwt() function reconstructs a signal of the same length as the original signal from the ca object. The ca objects from early iterations (small scale wavelets) will yield a more complete reconstruction: "
   ]
  },
  {
   "cell_type": "code",
   "execution_count": null,
   "metadata": {},
   "outputs": [],
   "source": [
    "plt.plot(data1)"
   ]
  },
  {
   "cell_type": "code",
   "execution_count": null,
   "metadata": {},
   "outputs": [],
   "source": [
    "plt.plot(rec_a_1[0])"
   ]
  },
  {
   "cell_type": "code",
   "execution_count": null,
   "metadata": {},
   "outputs": [],
   "source": [
    "plt.plot(rec_a_1[4])"
   ]
  },
  {
   "cell_type": "markdown",
   "metadata": {},
   "source": [
    "The pywt.dwt() function reconstructs the convolution of the original signal with wavelet. Plotting shows the convolution results represented as areas under the curve: "
   ]
  },
  {
   "cell_type": "code",
   "execution_count": null,
   "metadata": {},
   "outputs": [],
   "source": [
    "plt.plot(rec_d_1[4])"
   ]
  },
  {
   "cell_type": "markdown",
   "metadata": {},
   "source": [
    "### The concepts explained above can be used to detect irregularities in different signals:"
   ]
  },
  {
   "cell_type": "code",
   "execution_count": null,
   "metadata": {},
   "outputs": [],
   "source": [
    "fig = plt.figure(figsize=(20,10))\n",
    "pylab.subplot(4,4,1)\n",
    "pylab.plot(data_constant)\n",
    "pylab.subplot(4,4,2)\n",
    "pylab.plot(data1)\n",
    "pylab.subplot(4,4,3)\n",
    "pylab.plot(data2)\n",
    "pylab.subplot(4,4,4)\n",
    "pylab.plot(data3)\n",
    "pylab.subplot(4,4,5)\n",
    "pylab.plot(data4)\n",
    "pylab.subplot(4,4,6)\n",
    "pylab.plot(ecg)\n",
    "fig.show()"
   ]
  },
  {
   "cell_type": "code",
   "execution_count": null,
   "metadata": {},
   "outputs": [],
   "source": [
    "\n",
    "\n",
    "mode = pywt.Modes.smooth\n",
    "\n",
    "def plot_signal_decomp(data, w, title):\n",
    "    \"\"\"Decompose and plot a signal S.\n",
    "    S = An + Dn + Dn-1 + ... + D1\n",
    "    \"\"\"\n",
    "    w = pywt.Wavelet(w)\n",
    "    a = data\n",
    "    ca = []\n",
    "    cd = []\n",
    "    for i in range(10):\n",
    "        (a, d) = pywt.dwt(a, w, mode)\n",
    "        ca.append(a)\n",
    "        cd.append(d)\n",
    "\n",
    "    rec_a = []\n",
    "    rec_d = []\n",
    "\n",
    "    for i, coeff in enumerate(ca):\n",
    "        coeff_list = [coeff, None] + [None] * i\n",
    "        rec_a.append(pywt.waverec(coeff_list, w))\n",
    "\n",
    "    for i, coeff in enumerate(cd):\n",
    "        coeff_list = [None, coeff] + [None] * i\n",
    "        rec_d.append(pywt.waverec(coeff_list, w))\n",
    "\n",
    "    fig = plt.figure(figsize=(20,10))\n",
    "    ax_main = fig.add_subplot(len(rec_a) + 1, 1, 1)\n",
    "    ax_main.set_title(title)\n",
    "    ax_main.plot(data)\n",
    "    ax_main.set_xlim(0, len(data) - 1)\n",
    "\n",
    "    for i, y in enumerate(rec_a):\n",
    "        ax = fig.add_subplot(len(rec_a) + 1, 2, 3 + i * 2)\n",
    "        ax.plot(y, 'r')\n",
    "        ax.set_xlim(0, len(y) - 1)\n",
    "        ax.set_ylabel(\"A%d\" % (i + 1))\n",
    "\n",
    "    for i, y in enumerate(rec_d):\n",
    "        ax = fig.add_subplot(len(rec_d) + 1, 2, 4 + i * 2)\n",
    "        ax.plot(y, 'g')\n",
    "        ax.set_xlim(0, len(y) - 1)\n",
    "        ax.set_ylabel(\"D%d\" % (i + 1))\n",
    "\n",
    "\n",
    "plot_signal_decomp(data_constant, 'haar', \"DWT: Constant signal\")\n",
    "plot_signal_decomp(data1, 'haar', \"DWT: Signal with constant slope\")\n",
    "plot_signal_decomp(data2, 'haar', \"DWT: Signal with constant slope except for overlapping values\")\n",
    "plot_signal_decomp(data3, 'haar', \"DWT: Signal with constant slope except for sudden jump\")\n",
    "plot_signal_decomp(data4, 'sym5',\n",
    "                   \"DWT: Frequency and phase change - Symmlets5\")\n",
    "plot_signal_decomp(ecg, 'sym5', \"DWT: Ecg sample - Symmlets5\")\n",
    "\n",
    "\n",
    "plt.show()"
   ]
  },
  {
   "cell_type": "markdown",
   "metadata": {},
   "source": [
    "### How to decompose a signal into components containing different frequencies:"
   ]
  },
  {
   "cell_type": "markdown",
   "metadata": {},
   "source": [
    "#### Create a signal by adding the two above signals: constant low frequency plus a mixed signal (constant in the first part and high frequency in the second part):"
   ]
  },
  {
   "cell_type": "code",
   "execution_count": null,
   "metadata": {},
   "outputs": [],
   "source": [
    "sine_wave_low = signals_lowfreq['200_points']\n",
    "sine_wave_high = signals_highfreq['200_points']\n",
    "\n",
    "pylab.subplot(2,2,1)\n",
    "pylab.plot(sine_wave_low)\n",
    "pylab.subplot(2,2,2)\n",
    "pylab.plot(zero_high)\n",
    "fig.show()"
   ]
  },
  {
   "cell_type": "code",
   "execution_count": null,
   "metadata": {},
   "outputs": [],
   "source": [
    "signal_mixed_half = signals_lowfreq['200_points'] + zero_high"
   ]
  },
  {
   "cell_type": "code",
   "execution_count": null,
   "metadata": {},
   "outputs": [],
   "source": [
    "plt.plot(signal_mixed_half)"
   ]
  },
  {
   "cell_type": "markdown",
   "metadata": {},
   "source": [
    "#### Task: Decompose the mixed signal (signal_mixed_half) in order to reconstract the original low frequency signal (sine_wave_low):"
   ]
  },
  {
   "cell_type": "markdown",
   "metadata": {},
   "source": [
    "Visualize frequency composition using discrete wavelet transform: "
   ]
  },
  {
   "cell_type": "code",
   "execution_count": null,
   "metadata": {},
   "outputs": [],
   "source": [
    "plot_signal_decomp(signal_mixed_half, 'sym14', \"Signal decomposition\")"
   ]
  },
  {
   "cell_type": "markdown",
   "metadata": {},
   "source": [
    "#### Decomposing the signal using discrete wavelet transform:\n",
    "The code below executes the same operation that is visualized above."
   ]
  },
  {
   "cell_type": "code",
   "execution_count": null,
   "metadata": {},
   "outputs": [],
   "source": [
    "def dwt_steps(a, w, mode, num_steps):\n",
    "    ca = []\n",
    "    cd = []\n",
    "    for i in range(num_steps + 1):\n",
    "        (a, d) = pywt.dwt(a, w, mode)\n",
    "        ca.append(a)\n",
    "        cd.append(d)\n",
    "    return ca, cd"
   ]
  },
  {
   "cell_type": "code",
   "execution_count": null,
   "metadata": {},
   "outputs": [],
   "source": [
    "w = 'sym14'\n",
    "mode = pywt.Modes.smooth\n",
    "ca, cd = dwt_steps(signal_mixed_half, w, mode, 10)"
   ]
  },
  {
   "cell_type": "markdown",
   "metadata": {},
   "source": [
    "#### Reonstructing the signal from the estimates:"
   ]
  },
  {
   "cell_type": "code",
   "execution_count": null,
   "metadata": {},
   "outputs": [],
   "source": [
    "rec_a = []\n",
    "rec_d = []\n",
    "\n",
    "for i, coeff in enumerate(ca):\n",
    "    coeff_list = [coeff, None] + [None] * i\n",
    "    rec_a.append(pywt.waverec(coeff_list, w))\n",
    "\n",
    "for i, coeff in enumerate(cd):\n",
    "    coeff_list = [None, coeff] + [None] * i\n",
    "    rec_d.append(pywt.waverec(coeff_list, w))"
   ]
  },
  {
   "cell_type": "code",
   "execution_count": null,
   "metadata": {},
   "outputs": [],
   "source": [
    "low_freq_rec = rec_a[2][:200]"
   ]
  },
  {
   "cell_type": "code",
   "execution_count": null,
   "metadata": {},
   "outputs": [],
   "source": [
    "high_freq_rec = signal_mixed_half - low_freq_rec"
   ]
  },
  {
   "cell_type": "markdown",
   "metadata": {},
   "source": [
    "#### The two signal components reconstructed by wavelet transform look quite similar to the two original signal components that were used to create the mixed signal: "
   ]
  },
  {
   "cell_type": "code",
   "execution_count": null,
   "metadata": {},
   "outputs": [],
   "source": [
    "pylab.subplot(2,2,1)\n",
    "pylab.plot(low_freq_rec)\n",
    "pylab.subplot(2,2,2)\n",
    "pylab.plot(high_freq_rec)\n",
    "fig.show()"
   ]
  },
  {
   "cell_type": "code",
   "execution_count": null,
   "metadata": {},
   "outputs": [],
   "source": [
    "pylab.subplot(2,2,1)\n",
    "pylab.plot(sine_wave_low)\n",
    "pylab.subplot(2,2,2)\n",
    "pylab.plot(zero_high)\n",
    "fig.show()"
   ]
  },
  {
   "cell_type": "markdown",
   "metadata": {},
   "source": [
    "### Visualizing different wavelet types: "
   ]
  },
  {
   "cell_type": "code",
   "execution_count": null,
   "metadata": {},
   "outputs": [],
   "source": [
    "pywt.wavelist()"
   ]
  },
  {
   "cell_type": "code",
   "execution_count": null,
   "metadata": {},
   "outputs": [],
   "source": [
    "w = 'dmey'\n",
    "w = pywt.Wavelet(w)\n",
    "\n",
    "for i in range(0, len(w.wavefun())):\n",
    "    index = i+1\n",
    "    pylab.subplot(2,3,index)\n",
    "    pylab.plot(w.wavefun()[i])\n",
    "fig.show()"
   ]
  },
  {
   "cell_type": "code",
   "execution_count": null,
   "metadata": {},
   "outputs": [],
   "source": [
    "w = 'coif5'\n",
    "w = pywt.Wavelet(w)\n",
    "\n",
    "for i in range(0, len(w.wavefun())):\n",
    "    index = i+1\n",
    "    pylab.subplot(2,3,index)\n",
    "    pylab.plot(w.wavefun()[i])\n",
    "fig.show()"
   ]
  },
  {
   "cell_type": "code",
   "execution_count": null,
   "metadata": {},
   "outputs": [],
   "source": [
    "w = 'rbio5.5'\n",
    "w = pywt.Wavelet(w)\n",
    "\n",
    "for i in range(0, len(w.wavefun())):\n",
    "    index = i+1\n",
    "    pylab.subplot(2,3,index)\n",
    "    pylab.plot(w.wavefun()[i])\n",
    "fig.show()"
   ]
  },
  {
   "cell_type": "code",
   "execution_count": null,
   "metadata": {},
   "outputs": [],
   "source": [
    "w = 'db14'\n",
    "w = pywt.Wavelet(w)\n",
    "\n",
    "for i in range(0, len(w.wavefun())):\n",
    "    index = i+1\n",
    "    pylab.subplot(2,3,index)\n",
    "    pylab.plot(w.wavefun()[i])\n",
    "fig.show()"
   ]
  },
  {
   "cell_type": "code",
   "execution_count": null,
   "metadata": {},
   "outputs": [],
   "source": [
    "w = 'rbio3.5'\n",
    "w = pywt.Wavelet(w)\n",
    "\n",
    "for i in range(0, len(w.wavefun())):\n",
    "    index = i+1\n",
    "    pylab.subplot(2,3,index)\n",
    "    pylab.plot(w.wavefun()[i])\n",
    "fig.show()"
   ]
  },
  {
   "cell_type": "code",
   "execution_count": null,
   "metadata": {},
   "outputs": [],
   "source": [
    "w = 'sym14'\n",
    "w = pywt.Wavelet(w)\n",
    "\n",
    "for i in range(0, len(w.wavefun())):\n",
    "    index = i+1\n",
    "    pylab.subplot(2,3,index)\n",
    "    pylab.plot(w.wavefun()[i])\n",
    "fig.show()"
   ]
  },
  {
   "cell_type": "code",
   "execution_count": null,
   "metadata": {},
   "outputs": [],
   "source": [
    "w = 'bior1.5'\n",
    "w = pywt.Wavelet(w)\n",
    "\n",
    "for i in range(0, len(w.wavefun())):\n",
    "    index = i+1\n",
    "    pylab.subplot(2,3,index)\n",
    "    pylab.plot(w.wavefun()[i])\n",
    "fig.show()"
   ]
  },
  {
   "cell_type": "code",
   "execution_count": null,
   "metadata": {},
   "outputs": [],
   "source": [
    "w = 'coif5'\n",
    "w = pywt.Wavelet(w)\n",
    "\n",
    "for i in range(0, len(w.wavefun())):\n",
    "    index = i+1\n",
    "    pylab.subplot(2,2,index)\n",
    "    pylab.plot(w.wavefun()[i])\n",
    "fig.show()"
   ]
  },
  {
   "cell_type": "code",
   "execution_count": null,
   "metadata": {},
   "outputs": [],
   "source": []
  },
  {
   "cell_type": "code",
   "execution_count": null,
   "metadata": {},
   "outputs": [],
   "source": []
  },
  {
   "cell_type": "code",
   "execution_count": null,
   "metadata": {},
   "outputs": [],
   "source": [
    "w = 'shan'\n",
    "w = pywt.ContinuousWavelet(w)\n",
    "dir(w)\n",
    "for i in range(0, len(w.wavefun())):\n",
    "    index = i+1\n",
    "    pylab.subplot(2,2,index)\n",
    "    pylab.plot(w.wavefun()[i])\n",
    "fig.show()"
   ]
  },
  {
   "cell_type": "code",
   "execution_count": null,
   "metadata": {},
   "outputs": [],
   "source": [
    "w = 'cmor'\n",
    "w = pywt.ContinuousWavelet(w)\n",
    "dir(w)\n",
    "for i in range(0, len(w.wavefun())):\n",
    "    index = i+1\n",
    "    pylab.subplot(2,2,index)\n",
    "    pylab.plot(w.wavefun()[i])\n",
    "fig.show()"
   ]
  },
  {
   "cell_type": "code",
   "execution_count": null,
   "metadata": {},
   "outputs": [],
   "source": [
    "w = 'fbsp'\n",
    "w = pywt.ContinuousWavelet(w)\n",
    "dir(w)\n",
    "for i in range(0, len(w.wavefun())):\n",
    "    index = i+1\n",
    "    pylab.subplot(2,2,index)\n",
    "    pylab.plot(w.wavefun()[i])\n",
    "fig.show()"
   ]
  },
  {
   "cell_type": "code",
   "execution_count": null,
   "metadata": {},
   "outputs": [],
   "source": [
    "w = 'morl'\n",
    "w = pywt.ContinuousWavelet(w)\n",
    "dir(w)\n",
    "for i in range(0, len(w.wavefun())):\n",
    "    index = i+1\n",
    "    pylab.subplot(2,2,index)\n",
    "    pylab.plot(w.wavefun()[i])\n",
    "fig.show()"
   ]
  },
  {
   "cell_type": "markdown",
   "metadata": {},
   "source": [
    "## Questions:"
   ]
  },
  {
   "cell_type": "markdown",
   "metadata": {},
   "source": [
    "Sometimes the function wavefun() shows several functions. In the case of the haar wavelet, the first one is the low-pass filter and the second one is the actual haar wavelet. But there is a third one. What does the third one represent? How do you tell which plot represents what?"
   ]
  },
  {
   "cell_type": "code",
   "execution_count": null,
   "metadata": {},
   "outputs": [],
   "source": []
  },
  {
   "cell_type": "code",
   "execution_count": null,
   "metadata": {},
   "outputs": [],
   "source": []
  },
  {
   "cell_type": "code",
   "execution_count": null,
   "metadata": {},
   "outputs": [],
   "source": []
  }
 ],
 "metadata": {
  "kernelspec": {
   "display_name": "Python 3",
   "language": "python",
   "name": "python3"
  },
  "language_info": {
   "codemirror_mode": {
    "name": "ipython",
    "version": 3
   },
   "file_extension": ".py",
   "mimetype": "text/x-python",
   "name": "python",
   "nbconvert_exporter": "python",
   "pygments_lexer": "ipython3",
   "version": "3.6.5"
  }
 },
 "nbformat": 4,
 "nbformat_minor": 2
}
